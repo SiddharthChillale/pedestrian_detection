{
 "cells": [
  {
   "cell_type": "code",
   "execution_count": 1,
   "metadata": {},
   "outputs": [
    {
     "name": "stdout",
     "output_type": "stream",
     "text": [
      "4.2.0\n"
     ]
    }
   ],
   "source": [
    "import cv2\n",
    "import numpy as np\n",
    "import matplotlib.pyplot as plt\n",
    "\n",
    "\n",
    "# Create our body classifier\n",
    "body_classifier = cv2.CascadeClassifier('Haarcascades\\haarcascade_fullbody.xml')\n",
    "print(cv2.__version__)"
   ]
  },
  {
   "cell_type": "code",
   "execution_count": 2,
   "metadata": {},
   "outputs": [],
   "source": [
    "# For images \n",
    "\n",
    "img_path = 'image_examples/pedestrian.jpg'\n",
    "\n",
    "img = cv2.imread(img_path,1)\n",
    "cv2.imshow('image_color',img)\n",
    "gray = cv2.cvtColor(img, cv2.COLOR_BGR2GRAY)\n",
    "\n",
    "bodies = body_classifier.detectMultiScale(gray, scaleFactor=1.2, minNeighbors=1, minSize=(50, 20))\n",
    "\n",
    "\n",
    "\n",
    "# Extract bounding boxes for any bodies identified\n",
    "for (x,y,w,h) in bodies:\n",
    "    cv2.rectangle(img, (x, y), (x+w, y+h), (0, 255, 255), 2)\n",
    "    cv2.imshow('Pedestrians', img)\n",
    "\n",
    "k = cv2.waitKey(0) & 0xFF\n",
    "if k == 27:         # wait for ESC key to exit\n",
    "    cv2.destroyAllWindows()\n",
    "elif k == ord('s'): # wait for 's' key to save and exit\n",
    "    cv2.imwrite('pedestrian_detected.jpg',img)\n",
    "    cv2.destroyAllWindows()"
   ]
  },
  {
   "cell_type": "code",
   "execution_count": 6,
   "metadata": {},
   "outputs": [
    {
     "name": "stdout",
     "output_type": "stream",
     "text": [
      "Encountered End of Video\n",
      "Video with pedestrian detection saved as 'output.avi'\n"
     ]
    }
   ],
   "source": [
    "# For Video files\n",
    "\n",
    "\n",
    "cap = cv2.VideoCapture('image_examples/walking.avi')\n",
    "\n",
    "width  = int(cap.get(3)) # float\n",
    "height = int(cap.get(4)) # float\n",
    "fps = int(cap.get(5))\n",
    "fourCC = int(cap.get(6)) \n",
    "\n",
    "# fourCC = cv2.VideoWriter_fourcc(*'DIVX')\n",
    "out = cv2.VideoWriter('output.avi',fourcc=fourCC, fps=20, frameSize=(width, height), isColor=True, apiPreference=0 )\n",
    "\n",
    "# Loop once video is successfully loaded\n",
    "while cap.isOpened():\n",
    "    \n",
    "    # Read first frame\n",
    "    ret, frame = cap.read()\n",
    "    #frame = cv2.resize(frame, None,fx=0.5, fy=0.5, interpolation = cv2.INTER_LINEAR)\n",
    "    \n",
    "    try:\n",
    "        gray = cv2.cvtColor(frame, cv2.COLOR_BGR2GRAY)\n",
    "        # Pass frame to our body classifier\n",
    "        bodies = body_classifier.detectMultiScale(gray, scaleFactor=1.2, minNeighbors=1, minSize=(50, 20))\n",
    "\n",
    "        # Extract bounding boxes for any bodies identified\n",
    "        for (x,y,w,h) in bodies:\n",
    "            cv2.rectangle(frame, (x, y), (x+w, y+h), (0, 255, 255), 2)\n",
    "#             cv2.imshow('Pedestrians', frame)\n",
    "            out.write(frame)\n",
    "\n",
    "        k = cv2.waitKey(0) & 0xFF\n",
    "        if k == 27:         # wait for ESC key to exit\n",
    "            cv2.destroyAllWindows()\n",
    "    except:\n",
    "        print(\"Encountered End of Video\")\n",
    "        \n",
    "\n",
    "        \n",
    "        cv2.destroyAllWindows()\n",
    "        cap.release()\n",
    "        \n",
    "print(\"Video with pedestrian detection saved as 'output.avi'\")\n",
    "out.release()"
   ]
  },
  {
   "cell_type": "code",
   "execution_count": null,
   "metadata": {},
   "outputs": [],
   "source": []
  }
 ],
 "metadata": {
  "kernelspec": {
   "display_name": "Python 3",
   "language": "python",
   "name": "python3"
  },
  "language_info": {
   "codemirror_mode": {
    "name": "ipython",
    "version": 3
   },
   "file_extension": ".py",
   "mimetype": "text/x-python",
   "name": "python",
   "nbconvert_exporter": "python",
   "pygments_lexer": "ipython3",
   "version": "3.7.6"
  }
 },
 "nbformat": 4,
 "nbformat_minor": 4
}
